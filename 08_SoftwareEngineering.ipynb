{
 "cells": [
  {
   "cell_type": "markdown",
   "metadata": {},
   "source": [
    "# Software Engineering\n",
    "\n",
    "What do programmers do apart from writing code?\n",
    "\n",
    "- Testing (unit testing, integration testing, acceptance testing)\n",
    "- Debugging\n",
    "- Planning (User Stories, Requirements)\n",
    "- Prototyping (dummy code, pseudocode, executable code)\n",
    "- Software Design (flowcharts)\n",
    "- Infrastructure (technology stack, data load)\n",
    "- System engineering (business processes, use cases)\n",
    "- Project management (processes, Agile/Scrum, Kanban)\n",
    "- Documenting (comments, documentation)"
   ]
  },
  {
   "cell_type": "markdown",
   "metadata": {},
   "source": [
    "|            Program             |      Size     |\n",
    "|--------------------------------|:-------------:|\n",
    "|            Jupyter             |    < 10^2     |\n",
    "| script w/functions or modules  |    < 10^3     |\n",
    "|       program w/Classes        |    < 10^4     |\n",
    "| multiple libraries or packages |    < 10^5     |\n",
    "|1. Don't use python 2. Get help |    ~ 10^6     |\n"
   ]
  },
  {
   "cell_type": "markdown",
   "metadata": {},
   "source": [
    "### Project Structure\n",
    "Where do we put the files?\n",
    "- **Git** - solves problem of finding where you left off in your own programming \n",
    "- **Cookiecutter** - tool that gives us a project structure where everything is prepared: template files, stuff ready for testing, pip installable libs etc...\n",
    "- **pip** - mkae our program pip installable! The tool for that is called 'distutils'. If we have Cookiecutter this makes this much easier\n",
    "- **Sphinx** - used to build documentation \n",
    "\n",
    "### Testing\n",
    "How can we make sure the project is actually working?\n",
    "- **PEP8** - about coding style! Keeping your construction site clean, mowing the lawn! We use Pylint to check our code for whitespace etc\n",
    "- **pytest** - need to specify what you want to test! eg tests whether a function works automatically. Really great way to showcase that you're thinking about your code \n",
    "- **Travis** - performs **'Continuous Integration'** - adds an extra dimension: Everytime someone changes the code, it is tested before it is incorporated into the programming pipeline!"
   ]
  },
  {
   "cell_type": "markdown",
   "metadata": {},
   "source": [
    "| problem | bad solution | good for small projects | good for big projects |\n",
    "|---------|--------------|-------------------------|-------------|\n",
    "| access old versions of the code | copy folders | version control / git | git + Jira, Confluence |\n",
    "| two projects with different requirements | buy two computers | virtual environments | docker |\n",
    "| the program is easy to install | install manually, long recipe | installation script, distutils | make, Maven, Cookiecutter |\n",
    "| the code is easy to read | comment everything or nothing | PEP8, pylint | pylint+isort, Continuous Integration (TravisCI) |\n",
    "| existing features do not break | run everything manually | asserts, pytest, coverage | Pytest + TravisCI |\n",
    "| the program works correctly | try one example | code reviews | code reviews |\n",
    "| the code runs quickly | trial and error | buy a GPU, %timeit | cprofile |\n",
    "|users know how to use the program | no documentation | README file | Sphinx, MkDocs |"
   ]
  },
  {
   "cell_type": "markdown",
   "metadata": {},
   "source": [
    "## Building Python Packages\n",
    "\n",
    "### pip installation\n",
    "- Save all libraries used to a file:\n",
    "\n",
    "`pip freeze > requirements.txt`\n",
    "\n",
    "- Install them:\n",
    "\n",
    "`pip install -r requirements.txt`\n",
    "\n",
    "### Cookiecutter\n",
    "Cookiecutter creates a project skeleton with a pre-configured infrastructure that makes building and maintaining your software a lot easier.\n",
    "\n",
    "- First install Cookiecutter:\n",
    "\n",
    "`pip install cookiecutter`\n",
    "\n",
    "- Then you can create a new project by cloning a project template:\n",
    "\n",
    "`cookiecutter https://github.com/audreyr/cookiecutter-pypackage.git`\n",
    "\n",
    "And follow the dialog.\n",
    "\n",
    "### Adding your source code\n",
    "- Edit your source code in the mypackage/ subdirectory. The setup.py script will find it there.\n",
    "\n",
    "**Note The setup.cfg file contains most settings of your project (names, URLs, etc.).**\n",
    "\n",
    "### Using setup.py\n",
    "- **setuptools** is a Python library that builds and installs Python packages. **Cookiecutter** prepares everything you need to use setuptools.\n",
    "\n",
    "In your project directory, you have the following commands:\n",
    "\n",
    "- Install the project in editable mode:\n",
    "\n",
    "`pip install -e .`\n",
    "\n",
    "OR\n",
    "\n",
    "`python setup.py develop`\n",
    "\n",
    "- Run the tests:\n",
    "\n",
    "`python setup.py test`\n",
    "\n",
    "- Install the program locally:\n",
    "\n",
    "`pip install .`\n",
    "\n",
    "OR\n",
    "\n",
    "`python setup.py install`\n",
    "\n",
    "- Create a release file with everything to run the program:\n",
    "\n",
    "`python setup.py build`\n",
    "\n",
    "- Create a release file with everything to develop:\n",
    "\n",
    "`python setup.py sdist`\n",
    "\n",
    "### README-File\n",
    "\n",
    "The README-file (.md or .txt) should contain at least 4 pieces of information:\n",
    "\n",
    "1. What does the program do? (short description in plain language)\n",
    "2. How to use it? (step-by-step instructions)\n",
    "3. Who owns it? (license, references etc.)\n",
    "4. Who to ask? (contact information, links to base repos etc.)\n",
    "\n",
    "### Building a command-line interface\n",
    "1. Write a function\n",
    "2. Reference the function in setup.py (uncomment the [console_scripts] section from pyscaffold template and edit the line below)\n",
    "3. Re-install the program with pip install . The program should become available as a command-line tool.\n",
    "\n",
    "You can also find modules to build GUI and web interfaces!\n",
    "\n",
    "### Releasing your program on pip\n",
    "Follow the instructions in the tutorial Packaging Python Projects"
   ]
  },
  {
   "cell_type": "markdown",
   "metadata": {},
   "source": [
    "## PEP8\n",
    "\n",
    "- PEP8 is a standard for formatting Python code. Adhering to PEP8 makes your code easier for others to read and helps to discover some bugs early.\n",
    "\n",
    "### pylint\n",
    "The pylint tool is a **linter**, it checks PEP8 in your code, outputs suggestions and a score with a maximum of 10.\n",
    "\n",
    "`pylint my_program.py`\n",
    "\n",
    "### Configuration\n",
    "In the file **.pylintrc**, you can configure/disable some of the rules. E.g. to switch off checks on variable names, add:\n",
    "\n",
    "`[pylint]\n",
    "    disable=C0103`\n",
    "    \n",
    "**Note: PEP8 is a guideline, not a lawbook. You are encouraged to ignore rules that impede your work. Some teams use Git Hooks to run their linters automatically, whenever somebody pushes to the repo.**\n",
    "\n",
    "### Code style in Jupyter\n",
    "\n",
    "- Style checks in Jupyter are enabled by installing:\n",
    "\n",
    "`pip install pycodestyle_magic`\n",
    "\n",
    "- At the start of the notebook, add:\n",
    "\n",
    "`%load_ext pycodestyle_magic`\n",
    "\n",
    "- And in each cell you would like to check:\n",
    "\n",
    "`%%pycodestyle`"
   ]
  },
  {
   "cell_type": "markdown",
   "metadata": {},
   "source": [
    "## Automated Testing\n",
    "\n",
    "| concept | description |\n",
    "|---------|-------------|\n",
    "| unit tests | tests for small units of code (functions, classes) | \n",
    "| integration tests | tests testing multiple components together | \n",
    "| regression tests | repeating tests after changes to the c | ode | \n",
    "| border cases | extreme situations that are tested\n",
    "| with `pytest.raises()` | used to test whether an exception occurs | \n",
    "| fixtures | functions that prepare test data | \n",
    "| test parametrization | automatic generation of tests from data | \n",
    "| conftest.py | file where you can write pytest fixtures | \n",
    "| test coverage | percentage of lines executed by tests | "
   ]
  },
  {
   "cell_type": "markdown",
   "metadata": {},
   "source": [
    "- Complete Python Testing Tutorial: \n",
    "\n",
    "https://krother.gitbooks.io/python-testing-tutorial/content/"
   ]
  },
  {
   "cell_type": "markdown",
   "metadata": {},
   "source": [
    "### Examples\n",
    "### Testing for exceptions"
   ]
  },
  {
   "cell_type": "code",
   "execution_count": 1,
   "metadata": {},
   "outputs": [],
   "source": [
    "import pytest"
   ]
  },
  {
   "cell_type": "code",
   "execution_count": 2,
   "metadata": {},
   "outputs": [],
   "source": [
    "def test_error():\n",
    "    with pytest.raises(IndexError):\n",
    "        data = [5,4,3]\n",
    "        print(data[7])"
   ]
  },
  {
   "cell_type": "code",
   "execution_count": 3,
   "metadata": {},
   "outputs": [],
   "source": [
    "test_error()"
   ]
  },
  {
   "cell_type": "markdown",
   "metadata": {},
   "source": [
    "### Writing a fixture\n"
   ]
  },
  {
   "cell_type": "code",
   "execution_count": 4,
   "metadata": {},
   "outputs": [],
   "source": [
    "@pytest.fixture\n",
    "def primes():\n",
    "    return [3, 5, 7, 11, 13]"
   ]
  },
  {
   "cell_type": "markdown",
   "metadata": {},
   "source": [
    "Put the fixture in `conftest.py`, pytest will automatically import it.\n",
    "\n",
    "Use it in a test function anywhere:"
   ]
  },
  {
   "cell_type": "code",
   "execution_count": 6,
   "metadata": {},
   "outputs": [],
   "source": [
    "def test_odd_primes(primes):\n",
    "     for p in primes:\n",
    "            assert p % 2 != 0"
   ]
  },
  {
   "cell_type": "markdown",
   "metadata": {},
   "source": [
    "### Writing a parameterized test\n",
    "- Generates many tests with different parameters"
   ]
  },
  {
   "cell_type": "code",
   "execution_count": 7,
   "metadata": {},
   "outputs": [],
   "source": [
    "@pytest.mark.parametrize('prime', [3, 5, 7, 11, 13])\n",
    "def test_odd_primes(prime):\n",
    "    assert prime % 2 != 0"
   ]
  },
  {
   "cell_type": "markdown",
   "metadata": {},
   "source": [
    "### Calculating Test coverage\n",
    "\n",
    "`pip install pytest-cov`\n",
    "\n",
    "`pytest-cov`\n",
    "\n",
    "`coverage html`\n"
   ]
  },
  {
   "cell_type": "markdown",
   "metadata": {},
   "source": [
    "### Data Validation\n",
    "- It is essential to validate input or output data of your program to make sure whatever you do makes sense.\n",
    "\n",
    "#### Example\n",
    "We load the “boston” data set, and we will examine the age column in more detail:\n"
   ]
  },
  {
   "cell_type": "code",
   "execution_count": 8,
   "metadata": {},
   "outputs": [],
   "source": [
    "from sklearn.datasets import load_boston\n",
    "X, y = load_boston(True)\n",
    "\n",
    "age = X[:,6]"
   ]
  },
  {
   "cell_type": "markdown",
   "metadata": {},
   "source": [
    "#### Range checks with assert\n",
    "Our first attempt is to check whether ages are in a valid range:\n"
   ]
  },
  {
   "cell_type": "code",
   "execution_count": 10,
   "metadata": {},
   "outputs": [],
   "source": [
    "def validate_between(x, low, high):\n",
    "    assert low <= x <= high"
   ]
  },
  {
   "cell_type": "markdown",
   "metadata": {},
   "source": [
    "The `partial` function allows us to set the boundaries and obtain a new function (can be used via `apply` in pandas DataFrames):\n"
   ]
  },
  {
   "cell_type": "code",
   "execution_count": 11,
   "metadata": {},
   "outputs": [],
   "source": [
    "from functools import partial\n",
    "\n",
    "validate_age = partial(validate_between, low=0.0, high=120.0)"
   ]
  },
  {
   "cell_type": "markdown",
   "metadata": {},
   "source": [
    "- Now we can check values with it:"
   ]
  },
  {
   "cell_type": "code",
   "execution_count": 13,
   "metadata": {},
   "outputs": [],
   "source": [
    "validate_age(5)"
   ]
  },
  {
   "cell_type": "code",
   "execution_count": 14,
   "metadata": {},
   "outputs": [],
   "source": [
    "validate_age(55)"
   ]
  },
  {
   "cell_type": "code",
   "execution_count": 15,
   "metadata": {},
   "outputs": [
    {
     "ename": "AssertionError",
     "evalue": "",
     "output_type": "error",
     "traceback": [
      "\u001b[0;31m---------------------------------------------------------------------------\u001b[0m",
      "\u001b[0;31mAssertionError\u001b[0m                            Traceback (most recent call last)",
      "\u001b[0;32m<ipython-input-15-aa753aaebb35>\u001b[0m in \u001b[0;36m<module>\u001b[0;34m\u001b[0m\n\u001b[0;32m----> 1\u001b[0;31m \u001b[0mvalidate_age\u001b[0m\u001b[0;34m(\u001b[0m\u001b[0;36m125\u001b[0m\u001b[0;34m)\u001b[0m  \u001b[0;31m# throws an AssertionError\u001b[0m\u001b[0;34m\u001b[0m\u001b[0;34m\u001b[0m\u001b[0m\n\u001b[0m",
      "\u001b[0;32m<ipython-input-10-732d85571748>\u001b[0m in \u001b[0;36mvalidate_between\u001b[0;34m(x, low, high)\u001b[0m\n\u001b[1;32m      1\u001b[0m \u001b[0;32mdef\u001b[0m \u001b[0mvalidate_between\u001b[0m\u001b[0;34m(\u001b[0m\u001b[0mx\u001b[0m\u001b[0;34m,\u001b[0m \u001b[0mlow\u001b[0m\u001b[0;34m,\u001b[0m \u001b[0mhigh\u001b[0m\u001b[0;34m)\u001b[0m\u001b[0;34m:\u001b[0m\u001b[0;34m\u001b[0m\u001b[0;34m\u001b[0m\u001b[0m\n\u001b[0;32m----> 2\u001b[0;31m     \u001b[0;32massert\u001b[0m \u001b[0mlow\u001b[0m \u001b[0;34m<=\u001b[0m \u001b[0mx\u001b[0m \u001b[0;34m<=\u001b[0m \u001b[0mhigh\u001b[0m\u001b[0;34m\u001b[0m\u001b[0;34m\u001b[0m\u001b[0m\n\u001b[0m",
      "\u001b[0;31mAssertionError\u001b[0m: "
     ]
    }
   ],
   "source": [
    "validate_age(125)  # throws an AssertionError"
   ]
  },
  {
   "cell_type": "markdown",
   "metadata": {},
   "source": [
    "#### Range checks with Exceptions\n",
    "The `assert` statement does not tell us what is really going on. A better alternative is to write your own Exception class:"
   ]
  },
  {
   "cell_type": "code",
   "execution_count": 16,
   "metadata": {},
   "outputs": [],
   "source": [
    "class ValidationError(Exception): pass\n",
    "\n",
    "def validate_between(x, low, high):\n",
    "    if not (low <= x <= high):\n",
    "        raise ValidationError(f\"Value {x} not between {low} and {high}!\")"
   ]
  },
  {
   "cell_type": "markdown",
   "metadata": {},
   "source": [
    "And we can use `partial()` as above:"
   ]
  },
  {
   "cell_type": "code",
   "execution_count": 17,
   "metadata": {},
   "outputs": [],
   "source": [
    "validate_age = partial(validate_between, low=0.0, high=120.0)"
   ]
  },
  {
   "cell_type": "markdown",
   "metadata": {},
   "source": [
    "Now we can validate the entire column:"
   ]
  },
  {
   "cell_type": "code",
   "execution_count": 18,
   "metadata": {},
   "outputs": [],
   "source": [
    "b = [validate_age(a) for a in age]"
   ]
  },
  {
   "cell_type": "markdown",
   "metadata": {},
   "source": [
    "#### Validating types\n",
    "- In a similar manner, you can validate the type of variables:\n"
   ]
  },
  {
   "cell_type": "code",
   "execution_count": 19,
   "metadata": {},
   "outputs": [],
   "source": [
    "def validate_type(x, typelist):\n",
    "    if not type(x) in typelist:\n",
    "        raise ValidationError(f\"Wrong type {type(x)}, not in {typelist}\")"
   ]
  },
  {
   "cell_type": "markdown",
   "metadata": {},
   "source": [
    "- And we can match builtin, NumPy or any other type:"
   ]
  },
  {
   "cell_type": "code",
   "execution_count": 21,
   "metadata": {},
   "outputs": [],
   "source": [
    "import numpy as np\n",
    "validate_number = partial(validate_type,\n",
    "    typelist=[float, int, np.float32, np.float64, np.int32])\n",
    "\n",
    "validate_number(8.8)"
   ]
  },
  {
   "cell_type": "code",
   "execution_count": 22,
   "metadata": {},
   "outputs": [
    {
     "ename": "ValidationError",
     "evalue": "Wrong type <class 'str'>, not in [<class 'float'>, <class 'int'>, <class 'numpy.float32'>, <class 'numpy.float64'>, <class 'numpy.int32'>]",
     "output_type": "error",
     "traceback": [
      "\u001b[0;31m---------------------------------------------------------------------------\u001b[0m",
      "\u001b[0;31mValidationError\u001b[0m                           Traceback (most recent call last)",
      "\u001b[0;32m<ipython-input-22-30f0b70f59a7>\u001b[0m in \u001b[0;36m<module>\u001b[0;34m\u001b[0m\n\u001b[0;32m----> 1\u001b[0;31m \u001b[0mvalidate_number\u001b[0m\u001b[0;34m(\u001b[0m\u001b[0;34m\"8\"\u001b[0m\u001b[0;34m)\u001b[0m\u001b[0;34m\u001b[0m\u001b[0;34m\u001b[0m\u001b[0m\n\u001b[0m",
      "\u001b[0;32m<ipython-input-19-5e26b5a3c178>\u001b[0m in \u001b[0;36mvalidate_type\u001b[0;34m(x, typelist)\u001b[0m\n\u001b[1;32m      1\u001b[0m \u001b[0;32mdef\u001b[0m \u001b[0mvalidate_type\u001b[0m\u001b[0;34m(\u001b[0m\u001b[0mx\u001b[0m\u001b[0;34m,\u001b[0m \u001b[0mtypelist\u001b[0m\u001b[0;34m)\u001b[0m\u001b[0;34m:\u001b[0m\u001b[0;34m\u001b[0m\u001b[0;34m\u001b[0m\u001b[0m\n\u001b[1;32m      2\u001b[0m     \u001b[0;32mif\u001b[0m \u001b[0;32mnot\u001b[0m \u001b[0mtype\u001b[0m\u001b[0;34m(\u001b[0m\u001b[0mx\u001b[0m\u001b[0;34m)\u001b[0m \u001b[0;32min\u001b[0m \u001b[0mtypelist\u001b[0m\u001b[0;34m:\u001b[0m\u001b[0;34m\u001b[0m\u001b[0;34m\u001b[0m\u001b[0m\n\u001b[0;32m----> 3\u001b[0;31m         \u001b[0;32mraise\u001b[0m \u001b[0mValidationError\u001b[0m\u001b[0;34m(\u001b[0m\u001b[0;34mf\"Wrong type {type(x)}, not in {typelist}\"\u001b[0m\u001b[0;34m)\u001b[0m\u001b[0;34m\u001b[0m\u001b[0;34m\u001b[0m\u001b[0m\n\u001b[0m",
      "\u001b[0;31mValidationError\u001b[0m: Wrong type <class 'str'>, not in [<class 'float'>, <class 'int'>, <class 'numpy.float32'>, <class 'numpy.float64'>, <class 'numpy.int32'>]"
     ]
    }
   ],
   "source": [
    "validate_number(\"8\")"
   ]
  },
  {
   "cell_type": "markdown",
   "metadata": {},
   "source": [
    "#### Validating categories\n",
    "- Matching categories to a list of values is also possible (although df.unique() probably does a better job):"
   ]
  },
  {
   "cell_type": "code",
   "execution_count": 23,
   "metadata": {},
   "outputs": [],
   "source": [
    "def validate_category(x, values):\n",
    "    if not type(x) in values:\n",
    "        raise ValidationError(f\"Wrong value for category {type(x)}, not in {typelist}\")"
   ]
  },
  {
   "cell_type": "markdown",
   "metadata": {},
   "source": [
    "## Documentation with Sphinx\n",
    "This is a step-by-step guide to using the Python documentation tool Sphinx.\n",
    "\n",
    "**What is Sphinx?**\n",
    "\n",
    "- It is a python package / tool that allows you to create beautiful and intelligent documentation.\n",
    "\n",
    "**Features:**\n",
    "\n",
    "- It is written in a markup language called reStructuredText, or RST for short.\n",
    "- It renders your RST code into various formats, including:\n",
    "    - HTML (including Windows HTML Help)\n",
    "    - LaTeX (for printable PDF versions)\n",
    "    - ePub\n",
    "    - Texinfo\n",
    "    - manual pages\n",
    "    - plain text\n",
    "    \n",
    "- It allows for cross-referencing, adding hyperlinks, creating document trees, tables of content, etc.\n",
    "\n",
    "In short, it let’s you write nice, interactive, fancy documentation / web pages without needing to use HTML, CSS, or JavaScript. Consider this tool if you’re interested in going beyond README.md files and creating well-structured documentation for your python software development project."
   ]
  },
  {
   "cell_type": "markdown",
   "metadata": {},
   "source": [
    "## Travis CI\n",
    "**Travis is a Continuous Integration Tool that lets you automate checks on your code (pylint, pytest) etc. on GitHub**\n",
    "\n",
    "### Steps\n",
    "\n",
    "1. Get an account on https://travis-ci.org\n",
    "\n",
    "2. Tell Travis about your GitHub project\n",
    "\n",
    "3. Authorize GitHub to talk to Travis\n",
    "\n",
    "4. Create a `.travis.yml` file\n",
    "\n",
    "5. Change something in your code, commit and push\n",
    "\n",
    "6. Add a button to your README.md file:\n",
    "\n",
    "\n",
    "### Example Travis configuration\n",
    "\n",
    "            language: python\n",
    "            before_script:\n",
    "                - sleep 3\n",
    "\n",
    "            python:\n",
    "                - \"3.6\"\n",
    "\n",
    "            install:\n",
    "                - pip install -r requirements.txt\n",
    "                - pip install pylint\n",
    "                - pip install --editable .\n",
    "                \n",
    "            script:\n",
    "\n",
    "            - pylint myprogram.py"
   ]
  },
  {
   "cell_type": "code",
   "execution_count": null,
   "metadata": {},
   "outputs": [],
   "source": []
  }
 ],
 "metadata": {
  "kernelspec": {
   "display_name": "Python 3",
   "language": "python",
   "name": "python3"
  },
  "language_info": {
   "codemirror_mode": {
    "name": "ipython",
    "version": 3
   },
   "file_extension": ".py",
   "mimetype": "text/x-python",
   "name": "python",
   "nbconvert_exporter": "python",
   "pygments_lexer": "ipython3",
   "version": "3.6.8"
  }
 },
 "nbformat": 4,
 "nbformat_minor": 2
}
