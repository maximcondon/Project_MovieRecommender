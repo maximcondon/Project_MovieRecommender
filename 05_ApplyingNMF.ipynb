{
 "cells": [
  {
   "cell_type": "markdown",
   "metadata": {},
   "source": [
    "# What do I actually do once I've got a trained NMF model?"
   ]
  },
  {
   "cell_type": "code",
   "execution_count": 1,
   "metadata": {},
   "outputs": [],
   "source": [
    "import pickle\n",
    "import pandas as pd\n",
    "from sklearn.decomposition import NMF\n",
    "from fuzzywuzzy import process\n",
    "import numpy as np\n",
    "from sqlalchemy import create_engine"
   ]
  },
  {
   "cell_type": "code",
   "execution_count": 2,
   "metadata": {},
   "outputs": [
    {
     "data": {
      "text/html": [
       "<div>\n",
       "<style scoped>\n",
       "    .dataframe tbody tr th:only-of-type {\n",
       "        vertical-align: middle;\n",
       "    }\n",
       "\n",
       "    .dataframe tbody tr th {\n",
       "        vertical-align: top;\n",
       "    }\n",
       "\n",
       "    .dataframe thead th {\n",
       "        text-align: right;\n",
       "    }\n",
       "</style>\n",
       "<table border=\"1\" class=\"dataframe\">\n",
       "  <thead>\n",
       "    <tr style=\"text-align: right;\">\n",
       "      <th></th>\n",
       "      <th>Reviewer</th>\n",
       "      <th>Movie</th>\n",
       "      <th>Rating</th>\n",
       "    </tr>\n",
       "  </thead>\n",
       "  <tbody>\n",
       "    <tr>\n",
       "      <th>0</th>\n",
       "      <td>Nedra</td>\n",
       "      <td>IT</td>\n",
       "      <td>2</td>\n",
       "    </tr>\n",
       "    <tr>\n",
       "      <th>1</th>\n",
       "      <td>Paul</td>\n",
       "      <td>IT</td>\n",
       "      <td>4</td>\n",
       "    </tr>\n",
       "    <tr>\n",
       "      <th>2</th>\n",
       "      <td>Nedra</td>\n",
       "      <td>Titanic</td>\n",
       "      <td>2</td>\n",
       "    </tr>\n",
       "    <tr>\n",
       "      <th>3</th>\n",
       "      <td>Michael</td>\n",
       "      <td>Guesthouse Paradiso</td>\n",
       "      <td>5</td>\n",
       "    </tr>\n",
       "    <tr>\n",
       "      <th>4</th>\n",
       "      <td>Michael</td>\n",
       "      <td>Toxic Avenger</td>\n",
       "      <td>2</td>\n",
       "    </tr>\n",
       "  </tbody>\n",
       "</table>\n",
       "</div>"
      ],
      "text/plain": [
       "  Reviewer                Movie  Rating\n",
       "0    Nedra                   IT       2\n",
       "1     Paul                   IT       4\n",
       "2    Nedra              Titanic       2\n",
       "3  Michael  Guesthouse Paradiso       5\n",
       "4  Michael        Toxic Avenger       2"
      ]
     },
     "execution_count": 2,
     "metadata": {},
     "output_type": "execute_result"
    }
   ],
   "source": [
    "df = pd.read_csv('/Users/maximcondon/Desktop/Spiced/06_Week_6/peppermint_movies - Sheet1.csv')\n",
    "df.head()"
   ]
  },
  {
   "cell_type": "code",
   "execution_count": 3,
   "metadata": {},
   "outputs": [],
   "source": [
    "R = df.set_index(['Reviewer', 'Movie']).unstack(1)\n",
    "#df.pivot(index='Reviewer', columns='Movie', values='Rating')"
   ]
  },
  {
   "cell_type": "markdown",
   "metadata": {},
   "source": [
    "## First Feature Engineering Challenge!\n",
    "- What to do about NaNs?"
   ]
  },
  {
   "cell_type": "code",
   "execution_count": 4,
   "metadata": {},
   "outputs": [],
   "source": [
    "R.fillna(3.0, inplace=True)"
   ]
  },
  {
   "cell_type": "code",
   "execution_count": 5,
   "metadata": {},
   "outputs": [
    {
     "data": {
      "text/html": [
       "<div>\n",
       "<style scoped>\n",
       "    .dataframe tbody tr th:only-of-type {\n",
       "        vertical-align: middle;\n",
       "    }\n",
       "\n",
       "    .dataframe tbody tr th {\n",
       "        vertical-align: top;\n",
       "    }\n",
       "\n",
       "    .dataframe thead tr th {\n",
       "        text-align: left;\n",
       "    }\n",
       "\n",
       "    .dataframe thead tr:last-of-type th {\n",
       "        text-align: right;\n",
       "    }\n",
       "</style>\n",
       "<table border=\"1\" class=\"dataframe\">\n",
       "  <thead>\n",
       "    <tr>\n",
       "      <th></th>\n",
       "      <th colspan=\"21\" halign=\"left\">Rating</th>\n",
       "    </tr>\n",
       "    <tr>\n",
       "      <th>Movie</th>\n",
       "      <th>A Star Is Born</th>\n",
       "      <th>Argo</th>\n",
       "      <th>Bohemian Rhapsody</th>\n",
       "      <th>Das Leben der Anderen</th>\n",
       "      <th>Dirty Dancing</th>\n",
       "      <th>Dora the Explorer</th>\n",
       "      <th>Guesthouse Paradiso</th>\n",
       "      <th>Harry Potter and the Sorcerer's Stone</th>\n",
       "      <th>High School Musical 4</th>\n",
       "      <th>IT</th>\n",
       "      <th>...</th>\n",
       "      <th>Power Rangers</th>\n",
       "      <th>Princess Diaries</th>\n",
       "      <th>Roma</th>\n",
       "      <th>Schindlers List</th>\n",
       "      <th>Shawshank Redemption</th>\n",
       "      <th>Titanic</th>\n",
       "      <th>Toxic Avenger</th>\n",
       "      <th>Trainspotting</th>\n",
       "      <th>Who am I</th>\n",
       "      <th>Zootopia</th>\n",
       "    </tr>\n",
       "    <tr>\n",
       "      <th>Reviewer</th>\n",
       "      <th></th>\n",
       "      <th></th>\n",
       "      <th></th>\n",
       "      <th></th>\n",
       "      <th></th>\n",
       "      <th></th>\n",
       "      <th></th>\n",
       "      <th></th>\n",
       "      <th></th>\n",
       "      <th></th>\n",
       "      <th></th>\n",
       "      <th></th>\n",
       "      <th></th>\n",
       "      <th></th>\n",
       "      <th></th>\n",
       "      <th></th>\n",
       "      <th></th>\n",
       "      <th></th>\n",
       "      <th></th>\n",
       "      <th></th>\n",
       "      <th></th>\n",
       "    </tr>\n",
       "  </thead>\n",
       "  <tbody>\n",
       "    <tr>\n",
       "      <th>Anders</th>\n",
       "      <td>3.0</td>\n",
       "      <td>3.0</td>\n",
       "      <td>3.0</td>\n",
       "      <td>3.0</td>\n",
       "      <td>5.0</td>\n",
       "      <td>3.0</td>\n",
       "      <td>3.0</td>\n",
       "      <td>3.0</td>\n",
       "      <td>5.0</td>\n",
       "      <td>3.0</td>\n",
       "      <td>...</td>\n",
       "      <td>3.0</td>\n",
       "      <td>5.0</td>\n",
       "      <td>3.0</td>\n",
       "      <td>3.0</td>\n",
       "      <td>3.0</td>\n",
       "      <td>3.0</td>\n",
       "      <td>3.0</td>\n",
       "      <td>3.0</td>\n",
       "      <td>3.0</td>\n",
       "      <td>3.0</td>\n",
       "    </tr>\n",
       "    <tr>\n",
       "      <th>Josh</th>\n",
       "      <td>4.0</td>\n",
       "      <td>3.0</td>\n",
       "      <td>3.0</td>\n",
       "      <td>3.0</td>\n",
       "      <td>2.0</td>\n",
       "      <td>3.0</td>\n",
       "      <td>3.0</td>\n",
       "      <td>2.0</td>\n",
       "      <td>3.0</td>\n",
       "      <td>3.0</td>\n",
       "      <td>...</td>\n",
       "      <td>3.0</td>\n",
       "      <td>3.0</td>\n",
       "      <td>3.0</td>\n",
       "      <td>3.0</td>\n",
       "      <td>3.0</td>\n",
       "      <td>3.0</td>\n",
       "      <td>3.0</td>\n",
       "      <td>3.0</td>\n",
       "      <td>3.0</td>\n",
       "      <td>2.0</td>\n",
       "    </tr>\n",
       "    <tr>\n",
       "      <th>Karl</th>\n",
       "      <td>3.0</td>\n",
       "      <td>5.0</td>\n",
       "      <td>4.0</td>\n",
       "      <td>4.0</td>\n",
       "      <td>1.0</td>\n",
       "      <td>3.0</td>\n",
       "      <td>3.0</td>\n",
       "      <td>2.0</td>\n",
       "      <td>3.0</td>\n",
       "      <td>3.0</td>\n",
       "      <td>...</td>\n",
       "      <td>1.0</td>\n",
       "      <td>3.0</td>\n",
       "      <td>3.0</td>\n",
       "      <td>3.0</td>\n",
       "      <td>3.0</td>\n",
       "      <td>3.0</td>\n",
       "      <td>3.0</td>\n",
       "      <td>5.0</td>\n",
       "      <td>3.0</td>\n",
       "      <td>3.0</td>\n",
       "    </tr>\n",
       "    <tr>\n",
       "      <th>Max</th>\n",
       "      <td>3.0</td>\n",
       "      <td>3.0</td>\n",
       "      <td>3.0</td>\n",
       "      <td>3.0</td>\n",
       "      <td>3.0</td>\n",
       "      <td>5.0</td>\n",
       "      <td>1.0</td>\n",
       "      <td>3.0</td>\n",
       "      <td>3.0</td>\n",
       "      <td>3.0</td>\n",
       "      <td>...</td>\n",
       "      <td>5.0</td>\n",
       "      <td>4.0</td>\n",
       "      <td>3.0</td>\n",
       "      <td>3.0</td>\n",
       "      <td>3.0</td>\n",
       "      <td>3.0</td>\n",
       "      <td>3.0</td>\n",
       "      <td>3.0</td>\n",
       "      <td>3.0</td>\n",
       "      <td>3.0</td>\n",
       "    </tr>\n",
       "    <tr>\n",
       "      <th>Michael</th>\n",
       "      <td>3.0</td>\n",
       "      <td>3.0</td>\n",
       "      <td>3.0</td>\n",
       "      <td>3.0</td>\n",
       "      <td>3.0</td>\n",
       "      <td>3.0</td>\n",
       "      <td>5.0</td>\n",
       "      <td>3.0</td>\n",
       "      <td>3.0</td>\n",
       "      <td>3.0</td>\n",
       "      <td>...</td>\n",
       "      <td>3.0</td>\n",
       "      <td>3.0</td>\n",
       "      <td>3.0</td>\n",
       "      <td>3.0</td>\n",
       "      <td>3.0</td>\n",
       "      <td>1.0</td>\n",
       "      <td>2.0</td>\n",
       "      <td>3.0</td>\n",
       "      <td>5.0</td>\n",
       "      <td>3.0</td>\n",
       "    </tr>\n",
       "    <tr>\n",
       "      <th>Nedra</th>\n",
       "      <td>3.0</td>\n",
       "      <td>3.0</td>\n",
       "      <td>5.0</td>\n",
       "      <td>4.0</td>\n",
       "      <td>3.0</td>\n",
       "      <td>3.0</td>\n",
       "      <td>3.0</td>\n",
       "      <td>3.0</td>\n",
       "      <td>3.0</td>\n",
       "      <td>2.0</td>\n",
       "      <td>...</td>\n",
       "      <td>3.0</td>\n",
       "      <td>3.0</td>\n",
       "      <td>3.0</td>\n",
       "      <td>5.0</td>\n",
       "      <td>3.0</td>\n",
       "      <td>2.0</td>\n",
       "      <td>3.0</td>\n",
       "      <td>4.0</td>\n",
       "      <td>3.0</td>\n",
       "      <td>3.0</td>\n",
       "    </tr>\n",
       "    <tr>\n",
       "      <th>Paul</th>\n",
       "      <td>4.0</td>\n",
       "      <td>5.0</td>\n",
       "      <td>5.0</td>\n",
       "      <td>5.0</td>\n",
       "      <td>3.0</td>\n",
       "      <td>2.0</td>\n",
       "      <td>3.0</td>\n",
       "      <td>4.0</td>\n",
       "      <td>2.0</td>\n",
       "      <td>4.0</td>\n",
       "      <td>...</td>\n",
       "      <td>3.0</td>\n",
       "      <td>3.0</td>\n",
       "      <td>1.0</td>\n",
       "      <td>3.0</td>\n",
       "      <td>5.0</td>\n",
       "      <td>5.0</td>\n",
       "      <td>2.0</td>\n",
       "      <td>4.0</td>\n",
       "      <td>3.0</td>\n",
       "      <td>3.0</td>\n",
       "    </tr>\n",
       "  </tbody>\n",
       "</table>\n",
       "<p>7 rows × 22 columns</p>\n",
       "</div>"
      ],
      "text/plain": [
       "                 Rating                                               \\\n",
       "Movie    A Star Is Born Argo Bohemian Rhapsody Das Leben der Anderen   \n",
       "Reviewer                                                               \n",
       "Anders              3.0  3.0               3.0                   3.0   \n",
       "Josh                4.0  3.0               3.0                   3.0   \n",
       "Karl                3.0  5.0               4.0                   4.0   \n",
       "Max                 3.0  3.0               3.0                   3.0   \n",
       "Michael             3.0  3.0               3.0                   3.0   \n",
       "Nedra               3.0  3.0               5.0                   4.0   \n",
       "Paul                4.0  5.0               5.0                   5.0   \n",
       "\n",
       "                                                              \\\n",
       "Movie    Dirty Dancing Dora the Explorer Guesthouse Paradiso   \n",
       "Reviewer                                                       \n",
       "Anders             5.0               3.0                 3.0   \n",
       "Josh               2.0               3.0                 3.0   \n",
       "Karl               1.0               3.0                 3.0   \n",
       "Max                3.0               5.0                 1.0   \n",
       "Michael            3.0               3.0                 5.0   \n",
       "Nedra              3.0               3.0                 3.0   \n",
       "Paul               3.0               2.0                 3.0   \n",
       "\n",
       "                                                                           \\\n",
       "Movie    Harry Potter and the Sorcerer's Stone High School Musical 4   IT   \n",
       "Reviewer                                                                    \n",
       "Anders                                     3.0                   5.0  3.0   \n",
       "Josh                                       2.0                   3.0  3.0   \n",
       "Karl                                       2.0                   3.0  3.0   \n",
       "Max                                        3.0                   3.0  3.0   \n",
       "Michael                                    3.0                   3.0  3.0   \n",
       "Nedra                                      3.0                   3.0  2.0   \n",
       "Paul                                       4.0                   2.0  4.0   \n",
       "\n",
       "           ...                                                         \\\n",
       "Movie      ...    Power Rangers Princess Diaries Roma Schindlers List   \n",
       "Reviewer   ...                                                          \n",
       "Anders     ...              3.0              5.0  3.0             3.0   \n",
       "Josh       ...              3.0              3.0  3.0             3.0   \n",
       "Karl       ...              1.0              3.0  3.0             3.0   \n",
       "Max        ...              5.0              4.0  3.0             3.0   \n",
       "Michael    ...              3.0              3.0  3.0             3.0   \n",
       "Nedra      ...              3.0              3.0  3.0             5.0   \n",
       "Paul       ...              3.0              3.0  1.0             3.0   \n",
       "\n",
       "                                                                            \\\n",
       "Movie    Shawshank Redemption Titanic Toxic Avenger Trainspotting Who am I   \n",
       "Reviewer                                                                     \n",
       "Anders                    3.0     3.0           3.0           3.0      3.0   \n",
       "Josh                      3.0     3.0           3.0           3.0      3.0   \n",
       "Karl                      3.0     3.0           3.0           5.0      3.0   \n",
       "Max                       3.0     3.0           3.0           3.0      3.0   \n",
       "Michael                   3.0     1.0           2.0           3.0      5.0   \n",
       "Nedra                     3.0     2.0           3.0           4.0      3.0   \n",
       "Paul                      5.0     5.0           2.0           4.0      3.0   \n",
       "\n",
       "                   \n",
       "Movie    Zootopia  \n",
       "Reviewer           \n",
       "Anders        3.0  \n",
       "Josh          2.0  \n",
       "Karl          3.0  \n",
       "Max           3.0  \n",
       "Michael       3.0  \n",
       "Nedra         3.0  \n",
       "Paul          3.0  \n",
       "\n",
       "[7 rows x 22 columns]"
      ]
     },
     "execution_count": 5,
     "metadata": {},
     "output_type": "execute_result"
    }
   ],
   "source": [
    "R"
   ]
  },
  {
   "cell_type": "markdown",
   "metadata": {},
   "source": [
    "Now we create a variable which is an instance of this NMF class, and we get a bunch of **hyperparameters we can look at**\n",
    "- The most important is **n_components**, tells you how many **hidden features you're going to get out**!\n",
    "\n",
    "Tells us something about our data - some background calculation is performed and we obtain a matrix! \n",
    "- Remember, this matrix is then multiplied by Q again!\n",
    "\n",
    "e.g. Choose 3, maybe there's 3 components in my data? We don't know it's just a guess! Component 1 might be how Action-y it is, 2 how popular, 3 how Dramatic..."
   ]
  },
  {
   "cell_type": "code",
   "execution_count": 9,
   "metadata": {},
   "outputs": [],
   "source": [
    "nmf = NMF(n_components=3) #nmf is like m or model "
   ]
  },
  {
   "cell_type": "code",
   "execution_count": 10,
   "metadata": {
    "scrolled": true
   },
   "outputs": [
    {
     "data": {
      "text/plain": [
       "NMF(alpha=0.0, beta_loss='frobenius', init=None, l1_ratio=0.0, max_iter=200,\n",
       "  n_components=3, random_state=None, shuffle=False, solver='cd',\n",
       "  tol=0.0001, verbose=0)"
      ]
     },
     "execution_count": 10,
     "metadata": {},
     "output_type": "execute_result"
    }
   ],
   "source": [
    "nmf.fit(R)"
   ]
  },
  {
   "cell_type": "markdown",
   "metadata": {},
   "source": [
    "### Going to use pickle to store our model! Stores it as some binary model\n",
    "\n",
    "- If we read / open an NMF model that has already been trained, then we speed up the code!"
   ]
  },
  {
   "cell_type": "code",
   "execution_count": 11,
   "metadata": {},
   "outputs": [],
   "source": [
    "# This encodes your nmf model to reuse again\n",
    "binary = pickle.dumps(nmf)"
   ]
  },
  {
   "cell_type": "code",
   "execution_count": 12,
   "metadata": {},
   "outputs": [
    {
     "data": {
      "text/plain": [
       "1120"
      ]
     },
     "execution_count": 12,
     "metadata": {},
     "output_type": "execute_result"
    }
   ],
   "source": [
    "open('trained_nmf_model.bin', 'wb').write(binary)\n",
    "# .bin file is the standard to use\n",
    "#gives output: the number of bytes in the file"
   ]
  },
  {
   "cell_type": "markdown",
   "metadata": {},
   "source": [
    "### Sometime later in the future..."
   ]
  },
  {
   "cell_type": "code",
   "execution_count": 13,
   "metadata": {},
   "outputs": [],
   "source": [
    "binary = open('trained_nmf_model.bin', 'rb').read()"
   ]
  },
  {
   "cell_type": "code",
   "execution_count": 14,
   "metadata": {},
   "outputs": [],
   "source": [
    "nmf = pickle.loads(binary)"
   ]
  },
  {
   "cell_type": "code",
   "execution_count": 15,
   "metadata": {},
   "outputs": [
    {
     "data": {
      "text/plain": [
       "NMF(alpha=0.0, beta_loss='frobenius', init=None, l1_ratio=0.0, max_iter=200,\n",
       "  n_components=3, random_state=None, shuffle=False, solver='cd',\n",
       "  tol=0.0001, verbose=0)"
      ]
     },
     "execution_count": 15,
     "metadata": {},
     "output_type": "execute_result"
    }
   ],
   "source": [
    "nmf"
   ]
  },
  {
   "cell_type": "markdown",
   "metadata": {},
   "source": [
    "### Pros/Cons of Pickle\n",
    "\n",
    "#### Pros:\n",
    "- You can store ANY Python object as a binary file!\n",
    "- 2 lines of code! Write, then read!\n",
    "\n",
    "#### Cons:\n",
    "- Can only be read by Python\n",
    "- Sensitive to different versions"
   ]
  },
  {
   "cell_type": "markdown",
   "metadata": {},
   "source": [
    "## Using the NMF model\n",
    "\n",
    "### Fuzzywuzzy - Checks for spelling errors and brings up similar title names \n",
    "- Ensures that when people mistype their movie entries there isn't an issue!"
   ]
  },
  {
   "cell_type": "code",
   "execution_count": 16,
   "metadata": {
    "scrolled": true
   },
   "outputs": [
    {
     "data": {
      "text/html": [
       "<div>\n",
       "<style scoped>\n",
       "    .dataframe tbody tr th:only-of-type {\n",
       "        vertical-align: middle;\n",
       "    }\n",
       "\n",
       "    .dataframe tbody tr th {\n",
       "        vertical-align: top;\n",
       "    }\n",
       "\n",
       "    .dataframe thead tr th {\n",
       "        text-align: left;\n",
       "    }\n",
       "\n",
       "    .dataframe thead tr:last-of-type th {\n",
       "        text-align: right;\n",
       "    }\n",
       "</style>\n",
       "<table border=\"1\" class=\"dataframe\">\n",
       "  <thead>\n",
       "    <tr>\n",
       "      <th></th>\n",
       "      <th colspan=\"21\" halign=\"left\">Rating</th>\n",
       "    </tr>\n",
       "    <tr>\n",
       "      <th>Movie</th>\n",
       "      <th>A Star Is Born</th>\n",
       "      <th>Argo</th>\n",
       "      <th>Bohemian Rhapsody</th>\n",
       "      <th>Das Leben der Anderen</th>\n",
       "      <th>Dirty Dancing</th>\n",
       "      <th>Dora the Explorer</th>\n",
       "      <th>Guesthouse Paradiso</th>\n",
       "      <th>Harry Potter and the Sorcerer's Stone</th>\n",
       "      <th>High School Musical 4</th>\n",
       "      <th>IT</th>\n",
       "      <th>...</th>\n",
       "      <th>Power Rangers</th>\n",
       "      <th>Princess Diaries</th>\n",
       "      <th>Roma</th>\n",
       "      <th>Schindlers List</th>\n",
       "      <th>Shawshank Redemption</th>\n",
       "      <th>Titanic</th>\n",
       "      <th>Toxic Avenger</th>\n",
       "      <th>Trainspotting</th>\n",
       "      <th>Who am I</th>\n",
       "      <th>Zootopia</th>\n",
       "    </tr>\n",
       "    <tr>\n",
       "      <th>Reviewer</th>\n",
       "      <th></th>\n",
       "      <th></th>\n",
       "      <th></th>\n",
       "      <th></th>\n",
       "      <th></th>\n",
       "      <th></th>\n",
       "      <th></th>\n",
       "      <th></th>\n",
       "      <th></th>\n",
       "      <th></th>\n",
       "      <th></th>\n",
       "      <th></th>\n",
       "      <th></th>\n",
       "      <th></th>\n",
       "      <th></th>\n",
       "      <th></th>\n",
       "      <th></th>\n",
       "      <th></th>\n",
       "      <th></th>\n",
       "      <th></th>\n",
       "      <th></th>\n",
       "    </tr>\n",
       "  </thead>\n",
       "  <tbody>\n",
       "    <tr>\n",
       "      <th>Anders</th>\n",
       "      <td>3.0</td>\n",
       "      <td>3.0</td>\n",
       "      <td>3.0</td>\n",
       "      <td>3.0</td>\n",
       "      <td>5.0</td>\n",
       "      <td>3.0</td>\n",
       "      <td>3.0</td>\n",
       "      <td>3.0</td>\n",
       "      <td>5.0</td>\n",
       "      <td>3.0</td>\n",
       "      <td>...</td>\n",
       "      <td>3.0</td>\n",
       "      <td>5.0</td>\n",
       "      <td>3.0</td>\n",
       "      <td>3.0</td>\n",
       "      <td>3.0</td>\n",
       "      <td>3.0</td>\n",
       "      <td>3.0</td>\n",
       "      <td>3.0</td>\n",
       "      <td>3.0</td>\n",
       "      <td>3.0</td>\n",
       "    </tr>\n",
       "    <tr>\n",
       "      <th>Josh</th>\n",
       "      <td>4.0</td>\n",
       "      <td>3.0</td>\n",
       "      <td>3.0</td>\n",
       "      <td>3.0</td>\n",
       "      <td>2.0</td>\n",
       "      <td>3.0</td>\n",
       "      <td>3.0</td>\n",
       "      <td>2.0</td>\n",
       "      <td>3.0</td>\n",
       "      <td>3.0</td>\n",
       "      <td>...</td>\n",
       "      <td>3.0</td>\n",
       "      <td>3.0</td>\n",
       "      <td>3.0</td>\n",
       "      <td>3.0</td>\n",
       "      <td>3.0</td>\n",
       "      <td>3.0</td>\n",
       "      <td>3.0</td>\n",
       "      <td>3.0</td>\n",
       "      <td>3.0</td>\n",
       "      <td>2.0</td>\n",
       "    </tr>\n",
       "    <tr>\n",
       "      <th>Karl</th>\n",
       "      <td>3.0</td>\n",
       "      <td>5.0</td>\n",
       "      <td>4.0</td>\n",
       "      <td>4.0</td>\n",
       "      <td>1.0</td>\n",
       "      <td>3.0</td>\n",
       "      <td>3.0</td>\n",
       "      <td>2.0</td>\n",
       "      <td>3.0</td>\n",
       "      <td>3.0</td>\n",
       "      <td>...</td>\n",
       "      <td>1.0</td>\n",
       "      <td>3.0</td>\n",
       "      <td>3.0</td>\n",
       "      <td>3.0</td>\n",
       "      <td>3.0</td>\n",
       "      <td>3.0</td>\n",
       "      <td>3.0</td>\n",
       "      <td>5.0</td>\n",
       "      <td>3.0</td>\n",
       "      <td>3.0</td>\n",
       "    </tr>\n",
       "    <tr>\n",
       "      <th>Max</th>\n",
       "      <td>3.0</td>\n",
       "      <td>3.0</td>\n",
       "      <td>3.0</td>\n",
       "      <td>3.0</td>\n",
       "      <td>3.0</td>\n",
       "      <td>5.0</td>\n",
       "      <td>1.0</td>\n",
       "      <td>3.0</td>\n",
       "      <td>3.0</td>\n",
       "      <td>3.0</td>\n",
       "      <td>...</td>\n",
       "      <td>5.0</td>\n",
       "      <td>4.0</td>\n",
       "      <td>3.0</td>\n",
       "      <td>3.0</td>\n",
       "      <td>3.0</td>\n",
       "      <td>3.0</td>\n",
       "      <td>3.0</td>\n",
       "      <td>3.0</td>\n",
       "      <td>3.0</td>\n",
       "      <td>3.0</td>\n",
       "    </tr>\n",
       "    <tr>\n",
       "      <th>Michael</th>\n",
       "      <td>3.0</td>\n",
       "      <td>3.0</td>\n",
       "      <td>3.0</td>\n",
       "      <td>3.0</td>\n",
       "      <td>3.0</td>\n",
       "      <td>3.0</td>\n",
       "      <td>5.0</td>\n",
       "      <td>3.0</td>\n",
       "      <td>3.0</td>\n",
       "      <td>3.0</td>\n",
       "      <td>...</td>\n",
       "      <td>3.0</td>\n",
       "      <td>3.0</td>\n",
       "      <td>3.0</td>\n",
       "      <td>3.0</td>\n",
       "      <td>3.0</td>\n",
       "      <td>1.0</td>\n",
       "      <td>2.0</td>\n",
       "      <td>3.0</td>\n",
       "      <td>5.0</td>\n",
       "      <td>3.0</td>\n",
       "    </tr>\n",
       "  </tbody>\n",
       "</table>\n",
       "<p>5 rows × 22 columns</p>\n",
       "</div>"
      ],
      "text/plain": [
       "                 Rating                                               \\\n",
       "Movie    A Star Is Born Argo Bohemian Rhapsody Das Leben der Anderen   \n",
       "Reviewer                                                               \n",
       "Anders              3.0  3.0               3.0                   3.0   \n",
       "Josh                4.0  3.0               3.0                   3.0   \n",
       "Karl                3.0  5.0               4.0                   4.0   \n",
       "Max                 3.0  3.0               3.0                   3.0   \n",
       "Michael             3.0  3.0               3.0                   3.0   \n",
       "\n",
       "                                                              \\\n",
       "Movie    Dirty Dancing Dora the Explorer Guesthouse Paradiso   \n",
       "Reviewer                                                       \n",
       "Anders             5.0               3.0                 3.0   \n",
       "Josh               2.0               3.0                 3.0   \n",
       "Karl               1.0               3.0                 3.0   \n",
       "Max                3.0               5.0                 1.0   \n",
       "Michael            3.0               3.0                 5.0   \n",
       "\n",
       "                                                                           \\\n",
       "Movie    Harry Potter and the Sorcerer's Stone High School Musical 4   IT   \n",
       "Reviewer                                                                    \n",
       "Anders                                     3.0                   5.0  3.0   \n",
       "Josh                                       2.0                   3.0  3.0   \n",
       "Karl                                       2.0                   3.0  3.0   \n",
       "Max                                        3.0                   3.0  3.0   \n",
       "Michael                                    3.0                   3.0  3.0   \n",
       "\n",
       "           ...                                                         \\\n",
       "Movie      ...    Power Rangers Princess Diaries Roma Schindlers List   \n",
       "Reviewer   ...                                                          \n",
       "Anders     ...              3.0              5.0  3.0             3.0   \n",
       "Josh       ...              3.0              3.0  3.0             3.0   \n",
       "Karl       ...              1.0              3.0  3.0             3.0   \n",
       "Max        ...              5.0              4.0  3.0             3.0   \n",
       "Michael    ...              3.0              3.0  3.0             3.0   \n",
       "\n",
       "                                                                            \\\n",
       "Movie    Shawshank Redemption Titanic Toxic Avenger Trainspotting Who am I   \n",
       "Reviewer                                                                     \n",
       "Anders                    3.0     3.0           3.0           3.0      3.0   \n",
       "Josh                      3.0     3.0           3.0           3.0      3.0   \n",
       "Karl                      3.0     3.0           3.0           5.0      3.0   \n",
       "Max                       3.0     3.0           3.0           3.0      3.0   \n",
       "Michael                   3.0     1.0           2.0           3.0      5.0   \n",
       "\n",
       "                   \n",
       "Movie    Zootopia  \n",
       "Reviewer           \n",
       "Anders        3.0  \n",
       "Josh          2.0  \n",
       "Karl          3.0  \n",
       "Max           3.0  \n",
       "Michael       3.0  \n",
       "\n",
       "[5 rows x 22 columns]"
      ]
     },
     "execution_count": 16,
     "metadata": {},
     "output_type": "execute_result"
    }
   ],
   "source": [
    "R.head()"
   ]
  },
  {
   "cell_type": "code",
   "execution_count": 17,
   "metadata": {},
   "outputs": [],
   "source": [
    "movie_titles = list(R['Rating'].columns)"
   ]
  },
  {
   "cell_type": "code",
   "execution_count": 18,
   "metadata": {},
   "outputs": [],
   "source": [
    "user_input = 'bohemian rap city'"
   ]
  },
  {
   "cell_type": "code",
   "execution_count": 19,
   "metadata": {},
   "outputs": [
    {
     "data": {
      "text/plain": [
       "[('Bohemian Rhapsody', 76),\n",
       " ('IT', 60),\n",
       " ('Titanic', 49),\n",
       " ('Argo', 45),\n",
       " ('Roma', 45)]"
      ]
     },
     "execution_count": 19,
     "metadata": {},
     "output_type": "execute_result"
    }
   ],
   "source": [
    "process.extract(user_input, movie_titles)"
   ]
  },
  {
   "cell_type": "code",
   "execution_count": 20,
   "metadata": {},
   "outputs": [
    {
     "data": {
      "text/plain": [
       "'Bohemian Rhapsody'"
      ]
     },
     "execution_count": 20,
     "metadata": {},
     "output_type": "execute_result"
    }
   ],
   "source": [
    "process.extract(user_input, movie_titles)[0][0]"
   ]
  },
  {
   "cell_type": "code",
   "execution_count": 21,
   "metadata": {},
   "outputs": [
    {
     "name": "stdout",
     "output_type": "stream",
     "text": [
      "my butt is worn\n"
     ]
    }
   ],
   "source": [
    "user_input = input('')"
   ]
  },
  {
   "cell_type": "code",
   "execution_count": 22,
   "metadata": {},
   "outputs": [
    {
     "data": {
      "text/plain": [
       "'A Star Is Born'"
      ]
     },
     "execution_count": 22,
     "metadata": {},
     "output_type": "execute_result"
    }
   ],
   "source": [
    "process.extract(user_input, movie_titles)[0][0]"
   ]
  },
  {
   "cell_type": "markdown",
   "metadata": {},
   "source": [
    "### This is one of several solutions to get around the user input problem!\n",
    "- Another option would be a dropdown menu\n",
    "- Another option would be to give them a picture of a movie poster and they give the rating\n",
    "- Another option would be to give them 5 movies randomly from our database to score"
   ]
  },
  {
   "cell_type": "markdown",
   "metadata": {},
   "source": [
    "## Using our pre-trained model to output a prediction based on user input"
   ]
  },
  {
   "cell_type": "code",
   "execution_count": 24,
   "metadata": {},
   "outputs": [
    {
     "data": {
      "text/plain": [
       "array([4., 5., 5., 5., 3., 2., 3., 4., 2., 4., 3., 3., 3., 3., 1., 3., 5.,\n",
       "       5., 2., 4., 3., 3.])"
      ]
     },
     "execution_count": 24,
     "metadata": {},
     "output_type": "execute_result"
    }
   ],
   "source": [
    "R['Rating'].loc['Paul'].values"
   ]
  },
  {
   "cell_type": "code",
   "execution_count": 25,
   "metadata": {},
   "outputs": [
    {
     "data": {
      "text/plain": [
       "        Movie                                \n",
       "Rating  A Star Is Born                           4.0\n",
       "        Argo                                     5.0\n",
       "        Bohemian Rhapsody                        5.0\n",
       "        Das Leben der Anderen                    5.0\n",
       "        Dirty Dancing                            3.0\n",
       "        Dora the Explorer                        2.0\n",
       "        Guesthouse Paradiso                      3.0\n",
       "        Harry Potter and the Sorcerer's Stone    4.0\n",
       "        High School Musical 4                    2.0\n",
       "        IT                                       4.0\n",
       "        Inside Out                               3.0\n",
       "        Murder on the Orient Express             3.0\n",
       "        Power Rangers                            3.0\n",
       "        Princess Diaries                         3.0\n",
       "        Roma                                     1.0\n",
       "        Schindlers List                          3.0\n",
       "        Shawshank Redemption                     5.0\n",
       "        Titanic                                  5.0\n",
       "        Toxic Avenger                            2.0\n",
       "        Trainspotting                            4.0\n",
       "        Who am I                                 3.0\n",
       "        Zootopia                                 3.0\n",
       "Name: Paul, dtype: float64"
      ]
     },
     "execution_count": 25,
     "metadata": {},
     "output_type": "execute_result"
    }
   ],
   "source": [
    "R.loc['Paul']"
   ]
  },
  {
   "cell_type": "code",
   "execution_count": 26,
   "metadata": {},
   "outputs": [],
   "source": [
    "new_user_input = {'Shawshank Redemption':4, 'Power Rangers': 1, 'Dirty Dancing':5}"
   ]
  },
  {
   "cell_type": "markdown",
   "metadata": {},
   "source": [
    "#### But, we need it in the form:\n",
    "\n",
    "[NAN, NAN, NAN, NAN, 5, NAN, ... 1, NAN, NAN, NAN, 4, ..., NAN] "
   ]
  },
  {
   "cell_type": "markdown",
   "metadata": {},
   "source": [
    "### Feature Engineering Challenge 2:\n",
    "- Taking the user input and creating a corresponding array out of it!\n",
    "\n",
    "The idea revolves around taking a list and filling it with NaNs to match the number of films in our list.\n",
    "\n",
    "e.g. Here we have everything in alphabetical order which helps a lot! In our case, we have a numerically ascending movieid!"
   ]
  },
  {
   "cell_type": "code",
   "execution_count": 27,
   "metadata": {},
   "outputs": [],
   "source": [
    "import numpy as np"
   ]
  },
  {
   "cell_type": "code",
   "execution_count": 28,
   "metadata": {},
   "outputs": [],
   "source": [
    "naans = [np.nan] * len(movie_titles)"
   ]
  },
  {
   "cell_type": "code",
   "execution_count": 29,
   "metadata": {},
   "outputs": [],
   "source": [
    "d = dict(zip(movie_titles, naans))"
   ]
  },
  {
   "cell_type": "code",
   "execution_count": 30,
   "metadata": {},
   "outputs": [],
   "source": [
    "d['Shawshank Redemption'] = 4\n",
    "d['Power Rangers'] = 1\n",
    "d['Dirty Dancing'] = 5"
   ]
  },
  {
   "cell_type": "code",
   "execution_count": 31,
   "metadata": {},
   "outputs": [
    {
     "data": {
      "text/plain": [
       "{'A Star Is Born': nan,\n",
       " 'Argo': nan,\n",
       " 'Bohemian Rhapsody': nan,\n",
       " 'Das Leben der Anderen': nan,\n",
       " 'Dirty Dancing': 5,\n",
       " 'Dora the Explorer': nan,\n",
       " 'Guesthouse Paradiso': nan,\n",
       " \"Harry Potter and the Sorcerer's Stone\": nan,\n",
       " 'High School Musical 4': nan,\n",
       " 'IT': nan,\n",
       " 'Inside Out': nan,\n",
       " 'Murder on the Orient Express': nan,\n",
       " 'Power Rangers': 1,\n",
       " 'Princess Diaries': nan,\n",
       " 'Roma': nan,\n",
       " 'Schindlers List': nan,\n",
       " 'Shawshank Redemption': 4,\n",
       " 'Titanic': nan,\n",
       " 'Toxic Avenger': nan,\n",
       " 'Trainspotting': nan,\n",
       " 'Who am I': nan,\n",
       " 'Zootopia': nan}"
      ]
     },
     "execution_count": 31,
     "metadata": {},
     "output_type": "execute_result"
    }
   ],
   "source": [
    "d"
   ]
  },
  {
   "cell_type": "markdown",
   "metadata": {},
   "source": [
    "#### But our model is expecting a list - well actually a numpy array so we can convert this back into np.array!"
   ]
  },
  {
   "cell_type": "code",
   "execution_count": 32,
   "metadata": {},
   "outputs": [],
   "source": [
    "new_user_profile = list(d.values())"
   ]
  },
  {
   "cell_type": "code",
   "execution_count": 33,
   "metadata": {},
   "outputs": [
    {
     "data": {
      "text/plain": [
       "[nan, nan, nan, nan, 5, nan, nan, nan, nan, nan]"
      ]
     },
     "execution_count": 33,
     "metadata": {},
     "output_type": "execute_result"
    }
   ],
   "source": [
    "new_user_profile[:10]"
   ]
  },
  {
   "cell_type": "code",
   "execution_count": 34,
   "metadata": {},
   "outputs": [],
   "source": [
    "new_user_profile = pd.DataFrame(new_user_profile, index=movie_titles).transpose()"
   ]
  },
  {
   "cell_type": "code",
   "execution_count": 35,
   "metadata": {},
   "outputs": [
    {
     "data": {
      "text/html": [
       "<div>\n",
       "<style scoped>\n",
       "    .dataframe tbody tr th:only-of-type {\n",
       "        vertical-align: middle;\n",
       "    }\n",
       "\n",
       "    .dataframe tbody tr th {\n",
       "        vertical-align: top;\n",
       "    }\n",
       "\n",
       "    .dataframe thead th {\n",
       "        text-align: right;\n",
       "    }\n",
       "</style>\n",
       "<table border=\"1\" class=\"dataframe\">\n",
       "  <thead>\n",
       "    <tr style=\"text-align: right;\">\n",
       "      <th></th>\n",
       "      <th>A Star Is Born</th>\n",
       "      <th>Argo</th>\n",
       "      <th>Bohemian Rhapsody</th>\n",
       "      <th>Das Leben der Anderen</th>\n",
       "      <th>Dirty Dancing</th>\n",
       "      <th>Dora the Explorer</th>\n",
       "      <th>Guesthouse Paradiso</th>\n",
       "      <th>Harry Potter and the Sorcerer's Stone</th>\n",
       "      <th>High School Musical 4</th>\n",
       "      <th>IT</th>\n",
       "      <th>...</th>\n",
       "      <th>Power Rangers</th>\n",
       "      <th>Princess Diaries</th>\n",
       "      <th>Roma</th>\n",
       "      <th>Schindlers List</th>\n",
       "      <th>Shawshank Redemption</th>\n",
       "      <th>Titanic</th>\n",
       "      <th>Toxic Avenger</th>\n",
       "      <th>Trainspotting</th>\n",
       "      <th>Who am I</th>\n",
       "      <th>Zootopia</th>\n",
       "    </tr>\n",
       "  </thead>\n",
       "  <tbody>\n",
       "    <tr>\n",
       "      <th>0</th>\n",
       "      <td>NaN</td>\n",
       "      <td>NaN</td>\n",
       "      <td>NaN</td>\n",
       "      <td>NaN</td>\n",
       "      <td>5.0</td>\n",
       "      <td>NaN</td>\n",
       "      <td>NaN</td>\n",
       "      <td>NaN</td>\n",
       "      <td>NaN</td>\n",
       "      <td>NaN</td>\n",
       "      <td>...</td>\n",
       "      <td>1.0</td>\n",
       "      <td>NaN</td>\n",
       "      <td>NaN</td>\n",
       "      <td>NaN</td>\n",
       "      <td>4.0</td>\n",
       "      <td>NaN</td>\n",
       "      <td>NaN</td>\n",
       "      <td>NaN</td>\n",
       "      <td>NaN</td>\n",
       "      <td>NaN</td>\n",
       "    </tr>\n",
       "  </tbody>\n",
       "</table>\n",
       "<p>1 rows × 22 columns</p>\n",
       "</div>"
      ],
      "text/plain": [
       "   A Star Is Born  Argo  Bohemian Rhapsody  Das Leben der Anderen  \\\n",
       "0             NaN   NaN                NaN                    NaN   \n",
       "\n",
       "   Dirty Dancing  Dora the Explorer  Guesthouse Paradiso  \\\n",
       "0            5.0                NaN                  NaN   \n",
       "\n",
       "   Harry Potter and the Sorcerer's Stone  High School Musical 4  IT    ...     \\\n",
       "0                                    NaN                    NaN NaN    ...      \n",
       "\n",
       "   Power Rangers  Princess Diaries  Roma  Schindlers List  \\\n",
       "0            1.0               NaN   NaN              NaN   \n",
       "\n",
       "   Shawshank Redemption  Titanic  Toxic Avenger  Trainspotting  Who am I  \\\n",
       "0                   4.0      NaN            NaN            NaN       NaN   \n",
       "\n",
       "   Zootopia  \n",
       "0       NaN  \n",
       "\n",
       "[1 rows x 22 columns]"
      ]
     },
     "execution_count": 35,
     "metadata": {},
     "output_type": "execute_result"
    }
   ],
   "source": [
    "new_user_profile"
   ]
  },
  {
   "cell_type": "code",
   "execution_count": 36,
   "metadata": {},
   "outputs": [
    {
     "data": {
      "text/html": [
       "<div>\n",
       "<style scoped>\n",
       "    .dataframe tbody tr th:only-of-type {\n",
       "        vertical-align: middle;\n",
       "    }\n",
       "\n",
       "    .dataframe tbody tr th {\n",
       "        vertical-align: top;\n",
       "    }\n",
       "\n",
       "    .dataframe thead th {\n",
       "        text-align: right;\n",
       "    }\n",
       "</style>\n",
       "<table border=\"1\" class=\"dataframe\">\n",
       "  <thead>\n",
       "    <tr style=\"text-align: right;\">\n",
       "      <th></th>\n",
       "      <th>A Star Is Born</th>\n",
       "      <th>Argo</th>\n",
       "      <th>Bohemian Rhapsody</th>\n",
       "      <th>Das Leben der Anderen</th>\n",
       "      <th>Dirty Dancing</th>\n",
       "      <th>Dora the Explorer</th>\n",
       "      <th>Guesthouse Paradiso</th>\n",
       "      <th>Harry Potter and the Sorcerer's Stone</th>\n",
       "      <th>High School Musical 4</th>\n",
       "      <th>IT</th>\n",
       "      <th>...</th>\n",
       "      <th>Power Rangers</th>\n",
       "      <th>Princess Diaries</th>\n",
       "      <th>Roma</th>\n",
       "      <th>Schindlers List</th>\n",
       "      <th>Shawshank Redemption</th>\n",
       "      <th>Titanic</th>\n",
       "      <th>Toxic Avenger</th>\n",
       "      <th>Trainspotting</th>\n",
       "      <th>Who am I</th>\n",
       "      <th>Zootopia</th>\n",
       "    </tr>\n",
       "  </thead>\n",
       "  <tbody>\n",
       "    <tr>\n",
       "      <th>0</th>\n",
       "      <td>3.0</td>\n",
       "      <td>3.0</td>\n",
       "      <td>3.0</td>\n",
       "      <td>3.0</td>\n",
       "      <td>5.0</td>\n",
       "      <td>3.0</td>\n",
       "      <td>3.0</td>\n",
       "      <td>3.0</td>\n",
       "      <td>3.0</td>\n",
       "      <td>3.0</td>\n",
       "      <td>...</td>\n",
       "      <td>1.0</td>\n",
       "      <td>3.0</td>\n",
       "      <td>3.0</td>\n",
       "      <td>3.0</td>\n",
       "      <td>4.0</td>\n",
       "      <td>3.0</td>\n",
       "      <td>3.0</td>\n",
       "      <td>3.0</td>\n",
       "      <td>3.0</td>\n",
       "      <td>3.0</td>\n",
       "    </tr>\n",
       "  </tbody>\n",
       "</table>\n",
       "<p>1 rows × 22 columns</p>\n",
       "</div>"
      ],
      "text/plain": [
       "   A Star Is Born  Argo  Bohemian Rhapsody  Das Leben der Anderen  \\\n",
       "0             3.0   3.0                3.0                    3.0   \n",
       "\n",
       "   Dirty Dancing  Dora the Explorer  Guesthouse Paradiso  \\\n",
       "0            5.0                3.0                  3.0   \n",
       "\n",
       "   Harry Potter and the Sorcerer's Stone  High School Musical 4   IT  \\\n",
       "0                                    3.0                    3.0  3.0   \n",
       "\n",
       "     ...     Power Rangers  Princess Diaries  Roma  Schindlers List  \\\n",
       "0    ...               1.0               3.0   3.0              3.0   \n",
       "\n",
       "   Shawshank Redemption  Titanic  Toxic Avenger  Trainspotting  Who am I  \\\n",
       "0                   4.0      3.0            3.0            3.0       3.0   \n",
       "\n",
       "   Zootopia  \n",
       "0       3.0  \n",
       "\n",
       "[1 rows x 22 columns]"
      ]
     },
     "execution_count": 36,
     "metadata": {},
     "output_type": "execute_result"
    }
   ],
   "source": [
    "new_user_profile_filled = new_user_profile.fillna(3.0)\n",
    "new_user_profile_filled"
   ]
  },
  {
   "cell_type": "code",
   "execution_count": 37,
   "metadata": {},
   "outputs": [
    {
     "data": {
      "text/plain": [
       "array([[1.73548833, 0.95096622, 1.14208395]])"
      ]
     },
     "execution_count": 37,
     "metadata": {},
     "output_type": "execute_result"
    }
   ],
   "source": [
    "P = nmf.transform(new_user_profile_filled) # User-genre matrix\n",
    "P # How much the new user is 'into' each hidden component"
   ]
  },
  {
   "cell_type": "code",
   "execution_count": 38,
   "metadata": {},
   "outputs": [
    {
     "data": {
      "text/plain": [
       "(1, 3)"
      ]
     },
     "execution_count": 38,
     "metadata": {},
     "output_type": "execute_result"
    }
   ],
   "source": [
    "P.shape"
   ]
  },
  {
   "cell_type": "markdown",
   "metadata": {},
   "source": [
    "#### These are the 3 n_components from earlier - the hidden features!\n",
    "\n",
    "- 22 represents each movie!"
   ]
  },
  {
   "cell_type": "code",
   "execution_count": 39,
   "metadata": {},
   "outputs": [
    {
     "data": {
      "text/plain": [
       "(3, 22)"
      ]
     },
     "execution_count": 39,
     "metadata": {},
     "output_type": "execute_result"
    }
   ],
   "source": [
    "nmf.components_.shape"
   ]
  },
  {
   "cell_type": "code",
   "execution_count": 40,
   "metadata": {},
   "outputs": [
    {
     "data": {
      "text/plain": [
       "array([[9.95235417e-01, 7.45106234e-01, 8.65355698e-01, 8.55686981e-01,\n",
       "        1.44139526e+00, 1.40554865e+00, 4.75785665e-01, 1.00809331e+00,\n",
       "        1.28787632e+00, 9.41539629e-01, 1.04354054e+00, 9.55486400e-01,\n",
       "        1.60309466e+00, 1.50649036e+00, 9.64042344e-01, 9.74823834e-01,\n",
       "        9.46930293e-01, 9.70584262e-01, 9.76722722e-01, 7.59053004e-01,\n",
       "        9.21569862e-01, 9.11459330e-01],\n",
       "       [6.54411554e-01, 1.10255080e+00, 1.01333380e+00, 1.00040671e+00,\n",
       "        4.24439502e-02, 1.00524526e-01, 4.33325474e-01, 5.39137471e-01,\n",
       "        5.45894588e-02, 6.41383010e-01, 4.36414685e-01, 4.36211791e-01,\n",
       "        8.84804642e-02, 2.13893299e-01, 1.51591716e-05, 4.62065985e-01,\n",
       "        8.72408422e-01, 9.79905506e-01, 2.78351110e-01, 8.97379581e-01,\n",
       "        3.15736524e-01, 4.36110345e-01],\n",
       "       [6.61818985e-01, 8.07308430e-01, 8.54971414e-01, 7.58048602e-01,\n",
       "        3.04430108e-01, 5.08308650e-01, 1.41639548e+00, 4.12118784e-01,\n",
       "        7.43671221e-01, 5.13137393e-01, 8.08694818e-01, 7.05177258e-01,\n",
       "        1.20826318e-01, 5.02561337e-01, 8.95411491e-01, 8.99022881e-01,\n",
       "        5.14943151e-01, 0.00000000e+00, 5.90678028e-01, 9.99348295e-01,\n",
       "        1.12440982e+00, 6.53418477e-01]])"
      ]
     },
     "execution_count": 40,
     "metadata": {},
     "output_type": "execute_result"
    }
   ],
   "source": [
    "# This is our Q matrix - movie-genre matrix\n",
    "# Wouldn't over analyse this - there isn't much you can glean!\n",
    "Q = nmf.components_ # Movie-genre matrix\n",
    "Q"
   ]
  },
  {
   "cell_type": "markdown",
   "metadata": {},
   "source": [
    "### P has a shape of (1, 3), Q has a shape of (3, 22) therefore, as R = P*Q, our resulting matrix will have a shape of (1, 22)"
   ]
  },
  {
   "cell_type": "code",
   "execution_count": 41,
   "metadata": {},
   "outputs": [
    {
     "data": {
      "text/plain": [
       "array([[3.10539558, 3.26362575, 3.44191007, 3.3021429 , 2.88957215,\n",
       "        3.11543986, 2.85544091, 2.73290994, 3.13634202, 2.8300106 ,\n",
       "        3.14966543, 2.87842981, 3.0042878 , 3.39186899, 2.69573375,\n",
       "        3.15796414, 3.06112573, 2.6162947 , 2.63439729, 3.31204495,\n",
       "        3.18379893, 2.742812  ]])"
      ]
     },
     "execution_count": 41,
     "metadata": {},
     "output_type": "execute_result"
    }
   ],
   "source": [
    "ypred = np.dot(P, Q)\n",
    "ypred"
   ]
  },
  {
   "cell_type": "code",
   "execution_count": 42,
   "metadata": {},
   "outputs": [
    {
     "data": {
      "text/plain": [
       "(1, 22)"
      ]
     },
     "execution_count": 42,
     "metadata": {},
     "output_type": "execute_result"
    }
   ],
   "source": [
    "ypred.shape"
   ]
  },
  {
   "cell_type": "markdown",
   "metadata": {},
   "source": [
    "#### This is the model's predicted ranking that this new user would give to all movies BASED on the model's understanding of the training data!"
   ]
  },
  {
   "cell_type": "code",
   "execution_count": 43,
   "metadata": {},
   "outputs": [
    {
     "data": {
      "text/html": [
       "<div>\n",
       "<style scoped>\n",
       "    .dataframe tbody tr th:only-of-type {\n",
       "        vertical-align: middle;\n",
       "    }\n",
       "\n",
       "    .dataframe tbody tr th {\n",
       "        vertical-align: top;\n",
       "    }\n",
       "\n",
       "    .dataframe thead th {\n",
       "        text-align: right;\n",
       "    }\n",
       "</style>\n",
       "<table border=\"1\" class=\"dataframe\">\n",
       "  <thead>\n",
       "    <tr style=\"text-align: right;\">\n",
       "      <th></th>\n",
       "      <th>0</th>\n",
       "    </tr>\n",
       "  </thead>\n",
       "  <tbody>\n",
       "    <tr>\n",
       "      <th>Bohemian Rhapsody</th>\n",
       "      <td>3.441910</td>\n",
       "    </tr>\n",
       "    <tr>\n",
       "      <th>Princess Diaries</th>\n",
       "      <td>3.391869</td>\n",
       "    </tr>\n",
       "    <tr>\n",
       "      <th>Trainspotting</th>\n",
       "      <td>3.312045</td>\n",
       "    </tr>\n",
       "    <tr>\n",
       "      <th>Das Leben der Anderen</th>\n",
       "      <td>3.302143</td>\n",
       "    </tr>\n",
       "    <tr>\n",
       "      <th>Argo</th>\n",
       "      <td>3.263626</td>\n",
       "    </tr>\n",
       "  </tbody>\n",
       "</table>\n",
       "</div>"
      ],
      "text/plain": [
       "                              0\n",
       "Bohemian Rhapsody      3.441910\n",
       "Princess Diaries       3.391869\n",
       "Trainspotting          3.312045\n",
       "Das Leben der Anderen  3.302143\n",
       "Argo                   3.263626"
      ]
     },
     "execution_count": 43,
     "metadata": {},
     "output_type": "execute_result"
    }
   ],
   "source": [
    "pd.DataFrame(data= ypred[0], index=movie_titles).sort_values(by=0, ascending=False).head()"
   ]
  },
  {
   "cell_type": "code",
   "execution_count": 44,
   "metadata": {},
   "outputs": [
    {
     "data": {
      "text/plain": [
       "['Bohemian Rhapsody',\n",
       " 'Princess Diaries',\n",
       " 'Trainspotting',\n",
       " 'Das Leben der Anderen',\n",
       " 'Argo']"
      ]
     },
     "execution_count": 44,
     "metadata": {},
     "output_type": "execute_result"
    }
   ],
   "source": [
    "recommendations = list(pd.DataFrame(data= ypred[0], index=movie_titles).sort_values(by=0, ascending=False).head().index)\n",
    "recommendations"
   ]
  },
  {
   "cell_type": "markdown",
   "metadata": {},
   "source": [
    "### Now, take these ideas and package it all into a function!"
   ]
  },
  {
   "cell_type": "code",
   "execution_count": 45,
   "metadata": {},
   "outputs": [],
   "source": [
    "df = pd.read_csv('/Users/maximcondon/Desktop/Spiced/06_Week_6/peppermint_movies - Sheet1.csv')"
   ]
  },
  {
   "cell_type": "code",
   "execution_count": 46,
   "metadata": {},
   "outputs": [
    {
     "data": {
      "text/html": [
       "<div>\n",
       "<style scoped>\n",
       "    .dataframe tbody tr th:only-of-type {\n",
       "        vertical-align: middle;\n",
       "    }\n",
       "\n",
       "    .dataframe tbody tr th {\n",
       "        vertical-align: top;\n",
       "    }\n",
       "\n",
       "    .dataframe thead th {\n",
       "        text-align: right;\n",
       "    }\n",
       "</style>\n",
       "<table border=\"1\" class=\"dataframe\">\n",
       "  <thead>\n",
       "    <tr style=\"text-align: right;\">\n",
       "      <th></th>\n",
       "      <th>Reviewer</th>\n",
       "      <th>Movie</th>\n",
       "      <th>Rating</th>\n",
       "    </tr>\n",
       "  </thead>\n",
       "  <tbody>\n",
       "    <tr>\n",
       "      <th>0</th>\n",
       "      <td>Nedra</td>\n",
       "      <td>IT</td>\n",
       "      <td>2</td>\n",
       "    </tr>\n",
       "    <tr>\n",
       "      <th>1</th>\n",
       "      <td>Paul</td>\n",
       "      <td>IT</td>\n",
       "      <td>4</td>\n",
       "    </tr>\n",
       "    <tr>\n",
       "      <th>2</th>\n",
       "      <td>Nedra</td>\n",
       "      <td>Titanic</td>\n",
       "      <td>2</td>\n",
       "    </tr>\n",
       "    <tr>\n",
       "      <th>3</th>\n",
       "      <td>Michael</td>\n",
       "      <td>Guesthouse Paradiso</td>\n",
       "      <td>5</td>\n",
       "    </tr>\n",
       "    <tr>\n",
       "      <th>4</th>\n",
       "      <td>Michael</td>\n",
       "      <td>Toxic Avenger</td>\n",
       "      <td>2</td>\n",
       "    </tr>\n",
       "  </tbody>\n",
       "</table>\n",
       "</div>"
      ],
      "text/plain": [
       "  Reviewer                Movie  Rating\n",
       "0    Nedra                   IT       2\n",
       "1     Paul                   IT       4\n",
       "2    Nedra              Titanic       2\n",
       "3  Michael  Guesthouse Paradiso       5\n",
       "4  Michael        Toxic Avenger       2"
      ]
     },
     "execution_count": 46,
     "metadata": {},
     "output_type": "execute_result"
    }
   ],
   "source": [
    "df.head(5)"
   ]
  },
  {
   "cell_type": "markdown",
   "metadata": {},
   "source": [
    "#### A function to pickle our df:\n",
    "- remember we've already done this so can just use nmf "
   ]
  },
  {
   "cell_type": "code",
   "execution_count": 47,
   "metadata": {},
   "outputs": [],
   "source": [
    "# def pickle_df(df):\n",
    "    \n",
    "#     R = df.set_index(['Reviewer', 'Movie']).unstack(1)\n",
    "#     #makes our table into a matrix\n",
    "\n",
    "#     #What to do about NaNs?\n",
    "\n",
    "#     R.fillna(3.0, inplace=True) # fills NaNs\n",
    "    \n",
    "#     nmf = NMF(n_components=3) #sets our NMF model\n",
    "    \n",
    "#     nmf.fit(R) # Fits our dataframe R to the model\n",
    "    \n",
    "#     binary = pickle.dumps(nmf) # Encodes your nmf model to reuse again\n",
    " \n",
    "#     open('trained_nmf_model.bin', 'wb').write(binary)\n",
    "#     # opens a file and writes binary into it\n",
    "\n",
    "#     binary = open('trained_nmf_model.bin', 'rb').read()\n",
    "#     # reads the binary file we saved earlier\n",
    "    \n",
    "#     nmf = pickle.loads(binary) # does the same as NMF(n_components=3)\n",
    "    \n",
    "#     return nmf"
   ]
  },
  {
   "cell_type": "code",
   "execution_count": 48,
   "metadata": {
    "scrolled": true
   },
   "outputs": [
    {
     "data": {
      "text/plain": [
       "NMF(alpha=0.0, beta_loss='frobenius', init=None, l1_ratio=0.0, max_iter=200,\n",
       "  n_components=3, random_state=None, shuffle=False, solver='cd',\n",
       "  tol=0.0001, verbose=0)"
      ]
     },
     "execution_count": 48,
     "metadata": {},
     "output_type": "execute_result"
    }
   ],
   "source": [
    "nmf"
   ]
  },
  {
   "cell_type": "code",
   "execution_count": 115,
   "metadata": {},
   "outputs": [],
   "source": [
    "def clean_text(df, movie_input, rating):\n",
    "\n",
    "    R = df.set_index(['Reviewer', 'Movie']).unstack(1)\n",
    "\n",
    "    movie_titles = list(R['Rating'].columns) # list of movie titles\n",
    "\n",
    "    film = process.extract(movie_input, movie_titles)[0][0]\n",
    "        \n",
    "    return film, rating"
   ]
  },
  {
   "cell_type": "code",
   "execution_count": 116,
   "metadata": {},
   "outputs": [
    {
     "data": {
      "text/plain": [
       "('Guesthouse Paradiso', 5)"
      ]
     },
     "execution_count": 116,
     "metadata": {},
     "output_type": "execute_result"
    }
   ],
   "source": [
    "clean_text(df, 'glasshouse paraplegic', 5)"
   ]
  },
  {
   "cell_type": "code",
   "execution_count": null,
   "metadata": {},
   "outputs": [],
   "source": [
    "    \n",
    "    #taking the user input and creating an array, filling with NaNs\n",
    "    new_user_input = {'Shawshank Redemption':4, 'Power Rangers': 1, 'Dirty Dancing':5}\n",
    "\n",
    "    naans = [np.nan] * len(movie_titles) # makes a list of naans\n",
    "\n",
    "    d = dict(zip(movie_titles, naans)) # zips nan values to movie titles in dictionary form\n",
    "\n",
    "    d['Shawshank Redemption'] = 4 #assigns new values for the films \n",
    "    d['Power Rangers'] = 1\n",
    "    d['Dirty Dancing'] = 5\n",
    "\n",
    "    # need to convert this to a list and then a np.array!\n",
    "\n",
    "    new_user_profile = list(d.values()) # list of values\n",
    "\n",
    "    #makes a dataframe so we can fillna\n",
    "    new_user_profile = pd.DataFrame(new_user_profile, index=movie_titles).transpose()\n",
    "\n",
    "    new_user_profile_filled = new_user_profile.fillna(3.0)\n",
    "\n",
    "    P = nmf.transform(new_user_profile_filled) # User-genre matrix\n",
    "\n",
    "    Q = nmf.components_ # Movie-genre matrix\n",
    "\n",
    "    ypred = np.dot(P,Q) # dot product gives us R!\n",
    "\n",
    "    print(ypred)\n",
    "\n",
    "    recommendations = list(pd.DataFrame(data= ypred[0], index=movie_titles).sort_values(by=0, ascending=False).head(5).index)\n",
    "\n",
    "    return recommendations"
   ]
  },
  {
   "cell_type": "code",
   "execution_count": null,
   "metadata": {},
   "outputs": [],
   "source": [
    "# binary = open('trained_nmf_model.bin', 'rb').read()\n",
    "\n",
    "# model = pickle.loads(binary)\n",
    "\n",
    "# recommendations = get_recommendations(m, {'Shawshank Redemption': 4, ...})"
   ]
  },
  {
   "cell_type": "code",
   "execution_count": 147,
   "metadata": {},
   "outputs": [],
   "source": [
    "new_user_input = {'Shawshank Redemption':4, 'Power Rangers': 1, 'Dirty Dancing':5}"
   ]
  },
  {
   "cell_type": "code",
   "execution_count": 136,
   "metadata": {
    "scrolled": false
   },
   "outputs": [
    {
     "data": {
      "text/plain": [
       "['Shawshank Redemption', 'Power Rangers', 'Dirty Dancing']"
      ]
     },
     "execution_count": 136,
     "metadata": {},
     "output_type": "execute_result"
    }
   ],
   "source": [
    "movies_input = list(new_user_input.keys())\n",
    "movies_input"
   ]
  },
  {
   "cell_type": "code",
   "execution_count": 137,
   "metadata": {},
   "outputs": [
    {
     "data": {
      "text/plain": [
       "[4, 1, 5]"
      ]
     },
     "execution_count": 137,
     "metadata": {},
     "output_type": "execute_result"
    }
   ],
   "source": [
    "ratings_input = list(new_user_input.values())\n",
    "ratings_input"
   ]
  },
  {
   "cell_type": "code",
   "execution_count": 141,
   "metadata": {
    "scrolled": false
   },
   "outputs": [
    {
     "data": {
      "text/html": [
       "<div>\n",
       "<style scoped>\n",
       "    .dataframe tbody tr th:only-of-type {\n",
       "        vertical-align: middle;\n",
       "    }\n",
       "\n",
       "    .dataframe tbody tr th {\n",
       "        vertical-align: top;\n",
       "    }\n",
       "\n",
       "    .dataframe thead tr th {\n",
       "        text-align: left;\n",
       "    }\n",
       "\n",
       "    .dataframe thead tr:last-of-type th {\n",
       "        text-align: right;\n",
       "    }\n",
       "</style>\n",
       "<table border=\"1\" class=\"dataframe\">\n",
       "  <thead>\n",
       "    <tr>\n",
       "      <th></th>\n",
       "      <th colspan=\"21\" halign=\"left\">Rating</th>\n",
       "    </tr>\n",
       "    <tr>\n",
       "      <th>Movie</th>\n",
       "      <th>A Star Is Born</th>\n",
       "      <th>Argo</th>\n",
       "      <th>Bohemian Rhapsody</th>\n",
       "      <th>Das Leben der Anderen</th>\n",
       "      <th>Dirty Dancing</th>\n",
       "      <th>Dora the Explorer</th>\n",
       "      <th>Guesthouse Paradiso</th>\n",
       "      <th>Harry Potter and the Sorcerer's Stone</th>\n",
       "      <th>High School Musical 4</th>\n",
       "      <th>IT</th>\n",
       "      <th>...</th>\n",
       "      <th>Power Rangers</th>\n",
       "      <th>Princess Diaries</th>\n",
       "      <th>Roma</th>\n",
       "      <th>Schindlers List</th>\n",
       "      <th>Shawshank Redemption</th>\n",
       "      <th>Titanic</th>\n",
       "      <th>Toxic Avenger</th>\n",
       "      <th>Trainspotting</th>\n",
       "      <th>Who am I</th>\n",
       "      <th>Zootopia</th>\n",
       "    </tr>\n",
       "    <tr>\n",
       "      <th>Reviewer</th>\n",
       "      <th></th>\n",
       "      <th></th>\n",
       "      <th></th>\n",
       "      <th></th>\n",
       "      <th></th>\n",
       "      <th></th>\n",
       "      <th></th>\n",
       "      <th></th>\n",
       "      <th></th>\n",
       "      <th></th>\n",
       "      <th></th>\n",
       "      <th></th>\n",
       "      <th></th>\n",
       "      <th></th>\n",
       "      <th></th>\n",
       "      <th></th>\n",
       "      <th></th>\n",
       "      <th></th>\n",
       "      <th></th>\n",
       "      <th></th>\n",
       "      <th></th>\n",
       "    </tr>\n",
       "  </thead>\n",
       "  <tbody>\n",
       "    <tr>\n",
       "      <th>Anders</th>\n",
       "      <td>3.0</td>\n",
       "      <td>3.0</td>\n",
       "      <td>3.0</td>\n",
       "      <td>3.0</td>\n",
       "      <td>5.0</td>\n",
       "      <td>3.0</td>\n",
       "      <td>3.0</td>\n",
       "      <td>3.0</td>\n",
       "      <td>5.0</td>\n",
       "      <td>3.0</td>\n",
       "      <td>...</td>\n",
       "      <td>3.0</td>\n",
       "      <td>5.0</td>\n",
       "      <td>3.0</td>\n",
       "      <td>3.0</td>\n",
       "      <td>3.0</td>\n",
       "      <td>3.0</td>\n",
       "      <td>3.0</td>\n",
       "      <td>3.0</td>\n",
       "      <td>3.0</td>\n",
       "      <td>3.0</td>\n",
       "    </tr>\n",
       "  </tbody>\n",
       "</table>\n",
       "<p>1 rows × 22 columns</p>\n",
       "</div>"
      ],
      "text/plain": [
       "                 Rating                                               \\\n",
       "Movie    A Star Is Born Argo Bohemian Rhapsody Das Leben der Anderen   \n",
       "Reviewer                                                               \n",
       "Anders              3.0  3.0               3.0                   3.0   \n",
       "\n",
       "                                                              \\\n",
       "Movie    Dirty Dancing Dora the Explorer Guesthouse Paradiso   \n",
       "Reviewer                                                       \n",
       "Anders             5.0               3.0                 3.0   \n",
       "\n",
       "                                                                           \\\n",
       "Movie    Harry Potter and the Sorcerer's Stone High School Musical 4   IT   \n",
       "Reviewer                                                                    \n",
       "Anders                                     3.0                   5.0  3.0   \n",
       "\n",
       "           ...                                                         \\\n",
       "Movie      ...    Power Rangers Princess Diaries Roma Schindlers List   \n",
       "Reviewer   ...                                                          \n",
       "Anders     ...              3.0              5.0  3.0             3.0   \n",
       "\n",
       "                                                                            \\\n",
       "Movie    Shawshank Redemption Titanic Toxic Avenger Trainspotting Who am I   \n",
       "Reviewer                                                                     \n",
       "Anders                    3.0     3.0           3.0           3.0      3.0   \n",
       "\n",
       "                   \n",
       "Movie    Zootopia  \n",
       "Reviewer           \n",
       "Anders        3.0  \n",
       "\n",
       "[1 rows x 22 columns]"
      ]
     },
     "execution_count": 141,
     "metadata": {},
     "output_type": "execute_result"
    }
   ],
   "source": [
    "R.head(1)"
   ]
  },
  {
   "cell_type": "code",
   "execution_count": 145,
   "metadata": {},
   "outputs": [],
   "source": [
    "def test(df, new_user_input):    \n",
    "    \n",
    "    R = df.set_index(['Reviewer', 'Movie']).unstack(1)\n",
    "    \n",
    "    movie_titles = list(R['Rating'].columns)\n",
    "    \n",
    "    movies_input = list(new_user_input.keys())\n",
    "\n",
    "    ratings_input = list(new_user_input.values())\n",
    "\n",
    "    film = process.extract(movies_input, movie_titles)[0][0]\n",
    "\n",
    "    # Using our pre-trained model to output a prediction based on user input\n",
    "    \n",
    "    new_user_input = {'Shawshank Redemption':4, 'Power Rangers': 1, 'Dirty Dancing':5}\n",
    "    \n",
    "    # FE challenge - Taking user input and creating a corresponding array \n",
    "    \n",
    "    naans = [np.nan] * len(movie_titles)\n",
    "\n",
    "    d = dict(zip(movie_titles, naans))\n",
    "    \n",
    "    for i in movies_input:\n",
    "        \n",
    "        d[film] = ratings_input[0]\n",
    "        \n",
    "\n",
    "    ### But our model is expecting a list - well actually a numpy array so we can convert this back into np.array!\n",
    "\n",
    "    new_user_profile = list(d.values())\n",
    "\n",
    "    new_user_profile = pd.DataFrame(new_user_profile, index=movie_titles).transpose().fillna(3.0)\n",
    "\n",
    "    P = nmf.transform(new_user_profile) # User-genre matrix\n",
    "\n",
    "    #### These are the 3 n_components from earlier - the hidden features!\n",
    "\n",
    "    # This is our Q matrix - movie-genre matrix\n",
    "    Q = nmf.components_ \n",
    "    \n",
    "    ypred = np.dot(P, Q)\n",
    "\n",
    "    recommendations = list(pd.DataFrame(data= ypred[0], index=movie_titles).sort_values(by=0, ascending=False).head().index)\n",
    "    \n",
    "    return recommendations"
   ]
  }
 ],
 "metadata": {
  "kernelspec": {
   "display_name": "Python 3",
   "language": "python",
   "name": "python3"
  },
  "language_info": {
   "codemirror_mode": {
    "name": "ipython",
    "version": 3
   },
   "file_extension": ".py",
   "mimetype": "text/x-python",
   "name": "python",
   "nbconvert_exporter": "python",
   "pygments_lexer": "ipython3",
   "version": "3.7.1"
  }
 },
 "nbformat": 4,
 "nbformat_minor": 2
}
